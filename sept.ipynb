{
 "cells": [
  {
   "cell_type": "code",
   "execution_count": 29,
   "metadata": {},
   "outputs": [],
   "source": [
    "from transformers import Qwen2ForTokenClassification, Qwen2Config, Qwen2ForCausalLM\n",
    "import torch.nn as nn\n",
    "import torch\n"
   ]
  },
  {
   "cell_type": "code",
   "execution_count": 2,
   "metadata": {},
   "outputs": [],
   "source": [
    "# 6172\n",
    "TRAIN_RANGE = [5000, 6100]\n",
    "PREDICT_RANGE = [6100, 6172]\n",
    "SEQUENCE_LENGTH = 256\n",
    "TRAIN_SEQUENCE_NUM = 10000\n",
    "NOISE_STD = 0.2\n",
    "PRED_NUM_DAYS = 7\n",
    "\n",
    "\n",
    "HIDDEN_SIZE = 128\n",
    "INTERMEDIATE_SIZE = 256\n",
    "NUM_ATTENTION_HEADS = 16\n",
    "NUM_HIDDEN_LAYERS = 8\n",
    "NUM_KEY_VALUE_HEADS = 4\n"
   ]
  },
  {
   "cell_type": "code",
   "execution_count": 23,
   "metadata": {},
   "outputs": [],
   "source": [
    "config = Qwen2Config(\n",
    "    architectures=[\"Qwen2ForTokenClassification\"],\n",
    "    attention_dropout=0.0,\n",
    "    bos_token_id=10000,\n",
    "    eos_token_id=10000,\n",
    "    hidden_act=\"silu\",\n",
    "    hidden_size=HIDDEN_SIZE,\n",
    "    initializer_range=0.02,\n",
    "    intermediate_size=INTERMEDIATE_SIZE,\n",
    "    max_position_embeddings=SEQUENCE_LENGTH,\n",
    "    max_window_layers=24,\n",
    "    model_type=\"qwen2\",\n",
    "    num_attention_heads=NUM_ATTENTION_HEADS,\n",
    "    num_hidden_layers=NUM_HIDDEN_LAYERS,\n",
    "    num_key_value_heads=NUM_KEY_VALUE_HEADS,\n",
    "    rms_norm_eps=1e-06,\n",
    "    rope_theta=1000000.0,\n",
    "    sliding_window=SEQUENCE_LENGTH,\n",
    "    tie_word_embeddings=True,\n",
    "    torch_dtype=\"bfloat16\",\n",
    "    transformers_version=\"4.40.1\",\n",
    "    use_cache=True,\n",
    "    use_sliding_window=False,\n",
    "    vocab_size=100001,\n",
    "    classifier_dropout=0.1,\n",
    "    num_labels=1\n",
    ")\n",
    "\n",
    "model = Qwen2ForTokenClassification(config)\n",
    "model.score = nn.Linear(model.score.in_features, model.score.out_features, bias=False)\n"
   ]
  },
  {
   "cell_type": "code",
   "execution_count": 35,
   "metadata": {},
   "outputs": [
    {
     "data": {
      "text/plain": [
       "torch.Size([1, 5, 1])"
      ]
     },
     "execution_count": 35,
     "metadata": {},
     "output_type": "execute_result"
    }
   ],
   "source": [
    "sample_input = {\n",
    "    \"input_ids\": torch.tensor([[1, 2, 3, 4, 5]]),\n",
    "    \"attention_mask\": torch.tensor([[1, 1, 1, 1, 1]]),\n",
    "    \"labels\": torch.tensor([[0.2, 0.3, 0.4, 0.5, 0.6]], dtype=torch.long)\n",
    "}\n",
    "\n",
    "output = model(**sample_input)\n",
    "\n",
    "output.logits.shape\n"
   ]
  },
  {
   "cell_type": "code",
   "execution_count": 36,
   "metadata": {},
   "outputs": [
    {
     "data": {
      "text/plain": [
       "TokenClassifierOutput(loss=tensor(0., grad_fn=<NllLossBackward0>), logits=tensor([[[ 0.5809],\n",
       "         [-0.0579],\n",
       "         [ 0.7256],\n",
       "         [ 0.8692],\n",
       "         [ 0.6863]]], grad_fn=<UnsafeViewBackward0>), hidden_states=None, attentions=None)"
      ]
     },
     "execution_count": 36,
     "metadata": {},
     "output_type": "execute_result"
    }
   ],
   "source": [
    "output\n"
   ]
  },
  {
   "cell_type": "code",
   "execution_count": null,
   "metadata": {},
   "outputs": [],
   "source": []
  }
 ],
 "metadata": {
  "kernelspec": {
   "display_name": "qwen2.5-omin",
   "language": "python",
   "name": "python3"
  },
  "language_info": {
   "codemirror_mode": {
    "name": "ipython",
    "version": 3
   },
   "file_extension": ".py",
   "mimetype": "text/x-python",
   "name": "python",
   "nbconvert_exporter": "python",
   "pygments_lexer": "ipython3",
   "version": "3.12.3"
  }
 },
 "nbformat": 4,
 "nbformat_minor": 2
}
